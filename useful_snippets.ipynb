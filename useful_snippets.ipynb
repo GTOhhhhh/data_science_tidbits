{
 "cells": [
  {
   "cell_type": "code",
   "execution_count": 2,
   "metadata": {},
   "outputs": [
    {
     "data": {
      "text/plain": [
       "array(['1111', '2222'], dtype=object)"
      ]
     },
     "execution_count": 2,
     "metadata": {},
     "output_type": "execute_result"
    }
   ],
   "source": [
    "# https://stackoverflow.com/questions/29877508/what-does-dtype-object-mean-while-creating-a-numpy-array\n",
    "import numpy as np\n",
    "ar1 = np.array(['1', '2'], dtype=object)\n",
    "ar1 * 4"
   ]
  },
  {
   "cell_type": "markdown",
   "metadata": {},
   "source": [
    "to strip whitespace from data frame use ducktyping approach\n",
    "try is_instance(str) and try dtype=object\n",
    "and use try, exceptblocks\n",
    "https://stackoverflow.com/questions/40950310/strip-trim-all-strings-of-a-dataframe?noredirect=1&lq=1\n",
    "https://stackoverflow.com/questions/33788913/pythonic-efficient-way-to-strip-whitespace-from-every-pandas-data-frame-cell-tha"
   ]
  },
  {
   "cell_type": "code",
   "execution_count": null,
   "metadata": {},
   "outputs": [],
   "source": [
    "np.arange(0, 15)"
   ]
  },
  {
   "cell_type": "markdown",
   "metadata": {},
   "source": [
    "To install from inside notebook"
   ]
  },
  {
   "cell_type": "code",
   "execution_count": null,
   "metadata": {},
   "outputs": [],
   "source": [
    "import sys\n",
    "!{sys.executable} -m pip install numpy"
   ]
  },
  {
   "cell_type": "markdown",
   "metadata": {},
   "source": [
    "For SQL queries you can use PYSQLDF\n",
    "https://statcompute.wordpress.com/2016/10/17/flavors-of-sql-on-pandas-dataframe/"
   ]
  },
  {
   "cell_type": "code",
   "execution_count": null,
   "metadata": {},
   "outputs": [],
   "source": [
    "### pysqldf having problems so use pandasql instead\n",
    "from pandasql import sqldf\n",
    "pysqldf = lambda q: sqldf(q, globals())\n",
    "sqldf.execute(\"SELECT * from df;\")"
   ]
  },
  {
   "cell_type": "code",
   "execution_count": null,
   "metadata": {},
   "outputs": [],
   "source": [
    "import pysqldf\n",
    "pysqldf = lambda q: sqldf(q, globals())\n",
    "sqldf(\"SELECT * from df\")"
   ]
  },
  {
   "cell_type": "markdown",
   "metadata": {},
   "source": [
    "get row from dataframe based on pattern match"
   ]
  },
  {
   "cell_type": "code",
   "execution_count": null,
   "metadata": {},
   "outputs": [],
   "source": [
    "df[df['A'].str.contains(\"hello\")]"
   ]
  },
  {
   "cell_type": "code",
   "execution_count": null,
   "metadata": {},
   "outputs": [],
   "source": [
    "\"\"\"strip white space from column headers of a dataframe\"\"\"\n",
    "def strip_headers(df):\n",
    "    df.rename(columns=lambda x: x.strip(), inplace=True)"
   ]
  },
  {
   "cell_type": "markdown",
   "metadata": {},
   "source": [
    "String cleaning"
   ]
  },
  {
   "cell_type": "code",
   "execution_count": null,
   "metadata": {},
   "outputs": [],
   "source": [
    "\"\"\"remove space in middle of words\"\"\"\n",
    "string.replace(' ', '')"
   ]
  },
  {
   "cell_type": "code",
   "execution_count": null,
   "metadata": {},
   "outputs": [],
   "source": [
    "\"\"\"to get list of local files in directories into python\"\"\"\n",
    "import os \n",
    "files = os.listdir(\".\")"
   ]
  },
  {
   "cell_type": "code",
   "execution_count": null,
   "metadata": {},
   "outputs": [],
   "source": [
    "\"\"\"Reads CSV files from local folder into dictionary of data frames\"\"\"\n",
    "def build_data_frames():\n",
    "    files = os.listdir(\".\")\n",
    "    csvs = []\n",
    "    for file in files:\n",
    "        if re.search('.*csv', file):\n",
    "            csvs.append(file.split()[-1:])\n",
    "        \n",
    "    data = dict()\n",
    "    for csv in csvs:\n",
    "        data[csv[0][:-4]] = pd.read_csv(csv[0])\n",
    "    return data\n",
    "\n",
    "def build_template_frames():\n",
    "    !cd\n",
    "    files = os.listdir(\"../\")\n",
    "    print(files)"
   ]
  },
  {
   "cell_type": "code",
   "execution_count": 1,
   "metadata": {},
   "outputs": [],
   "source": [
    "\"\"\"pattern match across a set of strings\"\"\"\n",
    "import re\n",
    "def pattern_match_set(strings, pattern):\n",
    "    return [s if re.search(pattern, s) else None for s in strings]\n",
    "\n",
    "# search searches the whole string for a match and returns a match object\n",
    "# or none"
   ]
  }
 ],
 "metadata": {
  "kernelspec": {
   "display_name": "Python 3",
   "language": "python",
   "name": "python3"
  },
  "language_info": {
   "codemirror_mode": {
    "name": "ipython",
    "version": 3
   },
   "file_extension": ".py",
   "mimetype": "text/x-python",
   "name": "python",
   "nbconvert_exporter": "python",
   "pygments_lexer": "ipython3",
   "version": "3.7.0"
  }
 },
 "nbformat": 4,
 "nbformat_minor": 2
}
